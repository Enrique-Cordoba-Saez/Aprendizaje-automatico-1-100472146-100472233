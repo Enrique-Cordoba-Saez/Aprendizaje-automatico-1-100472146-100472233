{
  "nbformat": 4,
  "nbformat_minor": 0,
  "metadata": {
    "colab": {
      "provenance": [],
      "authorship_tag": "ABX9TyPSCLgfucHLa8tX+2/Rc3BE",
      "include_colab_link": true
    },
    "kernelspec": {
      "name": "python3",
      "display_name": "Python 3"
    },
    "language_info": {
      "name": "python"
    }
  },
  "cells": [
    {
      "cell_type": "markdown",
      "metadata": {
        "id": "view-in-github",
        "colab_type": "text"
      },
      "source": [
        "<a href=\"https://colab.research.google.com/github/Enrique-Cordoba-Saez/Aprendizaje-automatico-1-100472146-100472233/blob/main/Memoria.ipynb\" target=\"_parent\"><img src=\"https://colab.research.google.com/assets/colab-badge.svg\" alt=\"Open In Colab\"/></a>"
      ]
    },
    {
      "cell_type": "markdown",
      "source": [
        "EDA\n",
        "\n",
        "Columna constante: \"fsr.13\""
      ],
      "metadata": {
        "id": "ToWmG-CoFVM4"
      }
    },
    {
      "cell_type": "code",
      "execution_count": null,
      "metadata": {
        "id": "bTR95RrdFUco"
      },
      "outputs": [],
      "source": []
    }
  ]
}