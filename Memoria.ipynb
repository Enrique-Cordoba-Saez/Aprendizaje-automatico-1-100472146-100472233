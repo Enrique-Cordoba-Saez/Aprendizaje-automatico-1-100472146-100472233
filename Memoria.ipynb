{
<<<<<<< HEAD
=======
  "nbformat": 4,
  "nbformat_minor": 0,
  "metadata": {
    "colab": {
      "provenance": [],
      "authorship_tag": "ABX9TyMe99WK1E1CECMGOhAMkvyW",
      "include_colab_link": true
    },
    "kernelspec": {
      "name": "python3",
      "display_name": "Python 3"
    },
    "language_info": {
      "name": "python"
    }
  },
>>>>>>> 64ef2ae0a5a0e141f5cf34fb4a3eac2c6cd94ef2
  "cells": [
    {
      "cell_type": "markdown",
      "metadata": {
        "colab_type": "text",
        "id": "view-in-github"
      },
      "source": [
        "<a href=\"https://colab.research.google.com/github/Enrique-Cordoba-Saez/Aprendizaje-automatico-1-100472146-100472233/blob/main/Memoria.ipynb\" target=\"_parent\"><img src=\"https://colab.research.google.com/assets/colab-badge.svg\" alt=\"Open In Colab\"/></a>"
      ]
    },
    {
      "cell_type": "markdown",
<<<<<<< HEAD
=======
      "source": [
        "En primer lugar importamos la libreria pandas (abreviando su referencia a pd\" para mayor comodidad)."
      ],
>>>>>>> 64ef2ae0a5a0e141f5cf34fb4a3eac2c6cd94ef2
      "metadata": {
        "id": "ToWmG-CoFVM4"
      },
      "source": [
        "EDA"
      ]
    },
    {
      "cell_type": "code",
      "execution_count": null,
      "metadata": {
        "id": "bTR95RrdFUco"
      },
      "outputs": [],
      "source": [
        "import pandas as pd"
      ]
    },
    {
      "cell_type": "markdown",
      "source": [
        "Creamos un dataframe de pandas extrayendo los datos del archivo \"wind_available\" y reducimos la selección a las columnas de Sotavento correspondientes al numero 13 además de la de la energía haciendo 23 parámtros/columnas en total.\n",
        "\n",
        "Imprimiendo cualquiera de los dos dataframes se observa que el número de filas es 4747"
      ],
      "metadata": {
        "id": "gJGEyCsJBo1P"
      }
    },
    {
      "cell_type": "code",
      "source": [
        "wind_ava = pd.read_csv('wind_ava.csv.gz', compression=\"gzip\")\n",
        "\n",
        "columnas_seleccionadas = [\"energy\", \"t2m.13\", \"u10.13\", \"v10.13\", \"u100.13\", \"v100.13\", \"cape.13\", \"flsr.13\", \"fsr.13\", \"iews.13\", \"inss.13\",\n",
        "                          \"lai_hv.13\", \"lai_lv.13\", \"u10n.13\", \"v10n.13\", \"stl1.13\", \"stl2.13\", \"stl3.13\", \"stl4.13\", \"sp.13\", \"p54.162.13\", \"p59.162.13\", \"p55.162.13\"]\n",
        "\n",
        "df_seleccionado = wind_ava[columnas_seleccionadas]"
      ],
      "metadata": {
        "id": "r1Xq_JZwBpYR"
      },
      "execution_count": null,
      "outputs": []
    },
    {
      "cell_type": "markdown",
      "source": [
        "Ahora buscaremos aquellas columnas que son constantes, para ello mediante el parámetro \".std\" de pandas obtenemos las desviaciones estándar de cada una de las columnas a lo largo de las 4747 filas.\n",
        "\n",
        "También establecemos un umbral muy bajo que indicara que cualquier columna con una desviación por debajo de ese valor sera considerada como constante."
      ],
      "metadata": {
        "id": "swSModlmBxb-"
      }
    },
    {
      "cell_type": "code",
      "source": [
        "desviacion_estandar = df_seleccionado.std()\n",
        "umbral_desviacion = 0.01\n",
        "\n",
        "columnas_constantes = desviacion_estandar[desviacion_estandar < umbral_desviacion].index\n",
        "\n",
        "print(\"Columnas Constantes:\")\n",
        "print(columnas_constantes)"
      ],
      "metadata": {
        "id": "r1HYbieiB5AR"
      },
      "execution_count": null,
      "outputs": []
    },
    {
      "cell_type": "markdown",
      "source": [],
      "metadata": {
        "id": "lVOdXKdIDLfm"
      }
    }
  ],
  "metadata": {
    "colab": {
      "authorship_tag": "ABX9TyPYl4b5SA9t1zczuMZfhQZS",
      "include_colab_link": true,
      "provenance": []
    },
    "kernelspec": {
      "display_name": "Python 3",
      "name": "python3"
    },
    "language_info": {
      "name": "python"
    }
  },
  "nbformat": 4,
  "nbformat_minor": 0
}
